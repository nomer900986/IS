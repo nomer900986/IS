{
 "cells": [
  {
   "cell_type": "markdown",
   "id": "2aace8cf-4db2-4787-a498-13fe1b58e57b",
   "metadata": {},
   "source": [
    "## Лабораторная работа №4"
   ]
  },
  {
   "cell_type": "markdown",
   "id": "8d253d94-d291-421f-b09a-882110919b36",
   "metadata": {},
   "source": [
    "## Распознавание рукописных символов"
   ]
  },
  {
   "cell_type": "markdown",
   "id": "300c3e9c-b445-41a9-8205-07a8fab846e3",
   "metadata": {},
   "source": [
    "## Цель\n",
    "Реализовать классификацию черно-белых изображений рукописных цифр (28x28) по 10\n",
    "категориям (от 0 до 9)."
   ]
  },
  {
   "cell_type": "markdown",
   "id": "fc29f031-3d80-41d8-b993-e37dd04edae0",
   "metadata": {},
   "source": [
    "## Задачи\n",
    "1. Ознакомиться с представлением графических данных\n",
    "2. Ознакомиться с простейшим способом передачи графических данных нейронной сети\n",
    "3. Создать модель\n",
    "4.  Настроить параметры обучения\n",
    "5.  Написать функцию, позволяющая загружать изображение пользователи и классифицировать его"
   ]
  },
  {
   "cell_type": "markdown",
   "id": "8c317c68-28d4-460a-ad5c-15d531a50d22",
   "metadata": {},
   "source": [
    "## Выполнение работы"
   ]
  },
  {
   "cell_type": "markdown",
   "id": "652723c7-ee97-431a-bc19-b8bb25668b4c",
   "metadata": {},
   "source": [
    "Набор данных MNIST уже входит в состав Keras в форме набора из четырех массивов\n",
    "Numpy."
   ]
  },
  {
   "cell_type": "code",
   "execution_count": 1,
   "id": "969084d7-a62a-46ae-8f3c-6e147cdc054e",
   "metadata": {},
   "outputs": [],
   "source": [
    "import tensorflow as tf\n",
    "mnist = tf.keras.datasets.mnist\n",
    "(train_images, train_labels),(test_images, test_labels) = mnist.load_data()"
   ]
  },
  {
   "cell_type": "markdown",
   "id": "15397ae1-8217-4203-b158-07e040377636",
   "metadata": {},
   "source": [
    "Здесь train_images и train_labels — это тренировочный набор, то есть данные,\n",
    "необходимые для обучения. После обучения модель будет проверяться тестовым (или\n",
    "контрольным) набором, test_images и test_labels. Изображения хранятся в массивах\n",
    "Numpy, а метки — в массиве цифр от 0 до 9. Изображения и метки находятся в прямом\n",
    "соответствии, один к одному.\n",
    "Для проверки корректности загрузки достаточно сравнить тестовое изображение с его\n",
    "меткой."
   ]
  },
  {
   "cell_type": "code",
   "execution_count": 2,
   "id": "e7054758-f57c-4d8c-a0ad-58b52e3a6424",
   "metadata": {},
   "outputs": [
    {
     "data": {
      "image/png": "[encoded data removed]",
      "text/plain": [
       "<Figure size 432x288 with 1 Axes>"
      ]
     },
     "metadata": {
      "needs_background": "light"
     },
     "output_type": "display_data"
    },
    {
     "name": "stdout",
     "output_type": "stream",
     "text": [
      "0\n"
     ]
    }
   ],
   "source": [
    "import matplotlib.pyplot as plt\n",
    "plt.imshow(train_images[1],cmap=plt.cm.binary)\n",
    "plt.show()\n",
    "\n",
    "print(train_labels[1])"
   ]
  },
  {
   "cell_type": "markdown",
   "id": "d787fa78-1a9b-4ad1-af0f-53dea419679f",
   "metadata": {},
   "source": [
    "Исходные изображения представлены в виде массивов чисел в интервале [0, 255]. Перед\n",
    "обучением их необходимо преобразовать так, чтобы все значения оказались в интервале\n",
    "[0, 1]."
   ]
  },
  {
   "cell_type": "code",
   "execution_count": 3,
   "id": "7bd376dc-6e28-43c9-8794-3a69bc4b371a",
   "metadata": {},
   "outputs": [],
   "source": [
    "train_images = train_images / 255.0\n",
    "test_images = test_images / 255.0"
   ]
  },
  {
   "cell_type": "markdown",
   "id": "b0a20258-6243-48f0-b025-f9867ba392b7",
   "metadata": {},
   "source": [
    "Также необходимо закодировать метки категорий. В данном случае прямое кодирование\n",
    "меток заключается в конструировании вектора с нулевыми элементами со значением 1 в\n",
    "элементе, индекс которого соответствует индексу метки."
   ]
  },
  {
   "cell_type": "code",
   "execution_count": 4,
   "id": "0772e032-2411-4201-92b4-4809ad828a3e",
   "metadata": {
    "tags": []
   },
   "outputs": [
    {
     "name": "stdout",
     "output_type": "stream",
     "text": [
      "[[0. 0. 0. ... 0. 0. 0.]\n",
      " [1. 0. 0. ... 0. 0. 0.]\n",
      " [0. 0. 0. ... 0. 0. 0.]\n",
      " ...\n",
      " [0. 0. 0. ... 0. 0. 0.]\n",
      " [0. 0. 0. ... 0. 0. 0.]\n",
      " [0. 0. 0. ... 0. 1. 0.]]\n"
     ]
    }
   ],
   "source": [
    "from tensorflow.keras.utils import to_categorical\n",
    "train_labels = to_categorical(train_labels)\n",
    "test_labels = to_categorical(test_labels)\n",
    "print(train_labels)"
   ]
  },
  {
   "cell_type": "markdown",
   "id": "ee73b175-f79b-4114-b3bd-463941fbf81d",
   "metadata": {},
   "source": [
    "Теперь можно задать базовую архитектуру сети."
   ]
  },
  {
   "cell_type": "code",
   "execution_count": 5,
   "id": "bf90a9d8-b76f-4f99-afc7-2cbea2a60bb4",
   "metadata": {},
   "outputs": [],
   "source": [
    "from tensorflow.keras.layers import Dense, Activation, Flatten\n",
    "from tensorflow.keras.models import Sequential\n",
    "model = Sequential()\n",
    "model.add(Flatten())\n",
    "model.add(Dense(256, activation='relu'))\n",
    "model.add(Dense(10, activation='softmax'))"
   ]
  },
  {
   "cell_type": "markdown",
   "id": "30c25f11-713b-4695-8148-5f22e61db84e",
   "metadata": {},
   "source": [
    "Чтобы подготовить сеть к обучению, нужно настроить еще три параметра для этапа\n",
    "компиляции:\n",
    "1. функцию потерь, которая определяет, как сеть должна оценивать качество своей\n",
    "работы на обучающих данных и, соответственно, как корректировать ее в\n",
    "правильном направлении;\n",
    "2. оптимизатор — механизм, с помощью которого сеть будет обновлять себя, опираясь\n",
    "на наблюдаемые данные и функцию потерь;\n",
    "3. метрики для мониторинга на этапах обучения и тестирования — здесь нас будет\n",
    "интересовать только точность (доля правильно классифицированных\n",
    "изображений)."
   ]
  },
  {
   "cell_type": "code",
   "execution_count": 6,
   "id": "e7be6406-7dbf-44c2-8b89-37e161094d7e",
   "metadata": {},
   "outputs": [],
   "source": [
    "model.compile(optimizer='adam',loss='categorical_crossentropy', metrics=['accuracy'])"
   ]
  },
  {
   "cell_type": "markdown",
   "id": "82753f07-5877-49d6-aef1-defe58dee93d",
   "metadata": {},
   "source": [
    "Теперь можно начинать обучение сети, для чего в случае использования библиотеки Keras\n",
    "достаточно вызвать метод fit сети — он пытается адаптировать (fit) модель под обучающие\n",
    "данные."
   ]
  },
  {
   "cell_type": "code",
   "execution_count": 7,
   "id": "08ccb715-a533-4873-841f-6d8016ddb0dd",
   "metadata": {},
   "outputs": [
    {
     "name": "stdout",
     "output_type": "stream",
     "text": [
      "Epoch 1/5\n",
      "469/469 [==============================] - 1s 2ms/step - loss: 0.3043 - accuracy: 0.9156\n",
      "Epoch 2/5\n",
      "469/469 [==============================] - 1s 2ms/step - loss: 0.1320 - accuracy: 0.9620\n",
      "Epoch 3/5\n",
      "469/469 [==============================] - 1s 2ms/step - loss: 0.0898 - accuracy: 0.9740\n",
      "Epoch 4/5\n",
      "469/469 [==============================] - 1s 2ms/step - loss: 0.0671 - accuracy: 0.9806\n",
      "Epoch 5/5\n",
      "469/469 [==============================] - 1s 2ms/step - loss: 0.0519 - accuracy: 0.9850\n"
     ]
    },
    {
     "data": {
      "text/plain": [
       "<keras.callbacks.History at 0x215f27386d0>"
      ]
     },
     "execution_count": 7,
     "metadata": {},
     "output_type": "execute_result"
    }
   ],
   "source": [
    "model.fit(train_images, train_labels, epochs=5, batch_size=128)"
   ]
  },
  {
   "cell_type": "markdown",
   "id": "ac9eecf4-35d8-463a-8e57-1427d5aeaa2a",
   "metadata": {},
   "source": [
    "В процессе обучения отображаются две величины: потери сети на обучающих данных и\n",
    "точность сети на обучающих данных.\n",
    "Теперь проверим, как модель распознает контрольный набор:"
   ]
  },
  {
   "cell_type": "code",
   "execution_count": 8,
   "id": "6f4ab063-aa9a-453c-bc68-76987b875870",
   "metadata": {},
   "outputs": [
    {
     "name": "stdout",
     "output_type": "stream",
     "text": [
      "313/313 [==============================] - 1s 1ms/step - loss: 0.0737 - accuracy: 0.9756\n",
      "test_acc: 0.975600004196167\n"
     ]
    }
   ],
   "source": [
    "test_loss, test_acc = model.evaluate(test_images, test_labels)\n",
    "print('test_acc:', test_acc)"
   ]
  },
  {
   "cell_type": "markdown",
   "id": "671ddd4c-9e81-4b2f-96bb-fbf96d47919a",
   "metadata": {},
   "source": [
    "## Требования\n",
    "\n",
    "1. Найти архитектуру сети, при которой точность классификации будет не менее 95%\n",
    "2. Исследовать влияние различных оптимизаторов, а также их параметров, на процесс обучения\n",
    "3. Написать функцию, которая позволит загружать пользовательское изображение не из датасета"
   ]
  },
  {
   "cell_type": "markdown",
   "id": "dc934858-9a43-450e-a66b-3462a2f763bc",
   "metadata": {
    "tags": []
   },
   "source": [
    "## 1 Найдем архитектуру, при которой точность классификации будет не менее 95 процентов."
   ]
  },
  {
   "cell_type": "code",
   "execution_count": 9,
   "id": "bdfc36ef-d5db-4d40-a71f-5fd1e8f36e9a",
   "metadata": {
    "tags": []
   },
   "outputs": [
    {
     "name": "stdout",
     "output_type": "stream",
     "text": [
      "Epoch 1/5\n",
      "469/469 [==============================] - 1s 2ms/step - loss: 0.3745 - accuracy: 0.8978\n",
      "Epoch 2/5\n",
      "469/469 [==============================] - 1s 2ms/step - loss: 0.1772 - accuracy: 0.9499\n",
      "Epoch 3/5\n",
      "469/469 [==============================] - 1s 2ms/step - loss: 0.1288 - accuracy: 0.9631\n",
      "Epoch 4/5\n",
      "469/469 [==============================] - 1s 2ms/step - loss: 0.1020 - accuracy: 0.9705\n",
      "Epoch 5/5\n",
      "469/469 [==============================] - 1s 2ms/step - loss: 0.0824 - accuracy: 0.9764\n",
      "313/313 [==============================] - 0s 1ms/step - loss: 0.0953 - accuracy: 0.9717\n",
      "test_acc: 0.9717000126838684\n"
     ]
    }
   ],
   "source": [
    "model2 = Sequential()\n",
    "model2.add(Flatten())\n",
    "model2.add(Dense(100, activation='relu'))\n",
    "model2.add(Dense(10, activation='softmax'))\n",
    "\n",
    "model2.compile(optimizer='adam',loss='categorical_crossentropy', metrics=['accuracy'])\n",
    "\n",
    "model2.fit(train_images, train_labels, epochs=5, batch_size=128)\n",
    "\n",
    "test_loss, test_acc = model2.evaluate(test_images, test_labels)\n",
    "print('test_acc:', test_acc)"
   ]
  },
  {
   "cell_type": "code",
   "execution_count": 10,
   "id": "05fedfdc-f2b3-4b78-96a5-ee27e10b4469",
   "metadata": {
    "tags": []
   },
   "outputs": [
    {
     "name": "stdout",
     "output_type": "stream",
     "text": [
      "Epoch 1/5\n",
      "469/469 [==============================] - 1s 2ms/step - loss: 0.3102 - accuracy: 0.9129\n",
      "Epoch 2/5\n",
      "469/469 [==============================] - 1s 2ms/step - loss: 0.1221 - accuracy: 0.9640\n",
      "Epoch 3/5\n",
      "469/469 [==============================] - 1s 2ms/step - loss: 0.0842 - accuracy: 0.9743\n",
      "Epoch 4/5\n",
      "469/469 [==============================] - 1s 2ms/step - loss: 0.0632 - accuracy: 0.9807\n",
      "Epoch 5/5\n",
      "469/469 [==============================] - 1s 2ms/step - loss: 0.0502 - accuracy: 0.9846\n",
      "313/313 [==============================] - 0s 1ms/step - loss: 0.0863 - accuracy: 0.9743\n",
      "test_acc: 0.9743000268936157\n"
     ]
    }
   ],
   "source": [
    "model3 = Sequential()\n",
    "model3.add(Flatten())\n",
    "model3.add(Dense(128, activation='relu'))\n",
    "model3.add(Dense(128, activation='relu'))\n",
    "model3.add(Dense(10, activation='softmax'))\n",
    "\n",
    "model3.compile(optimizer='adam',loss='categorical_crossentropy', metrics=['accuracy'])\n",
    "\n",
    "model3.fit(train_images, train_labels, epochs=5, batch_size=128)\n",
    "\n",
    "test_loss, test_acc = model3.evaluate(test_images, test_labels)\n",
    "print('test_acc:', test_acc)"
   ]
  },
  {
   "cell_type": "code",
   "execution_count": 11,
   "id": "4d195322-bc2c-4f59-bd94-b02c2847211a",
   "metadata": {
    "tags": []
   },
   "outputs": [
    {
     "name": "stdout",
     "output_type": "stream",
     "text": [
      "Epoch 1/5\n",
      "1875/1875 [==============================] - 4s 2ms/step - loss: 0.2117 - accuracy: 0.9349\n",
      "Epoch 2/5\n",
      "1875/1875 [==============================] - 4s 2ms/step - loss: 0.0925 - accuracy: 0.9711\n",
      "Epoch 3/5\n",
      "1875/1875 [==============================] - 4s 2ms/step - loss: 0.0654 - accuracy: 0.9787\n",
      "Epoch 4/5\n",
      "1875/1875 [==============================] - 4s 2ms/step - loss: 0.0507 - accuracy: 0.9843\n",
      "Epoch 5/5\n",
      "1875/1875 [==============================] - 4s 2ms/step - loss: 0.0397 - accuracy: 0.9872\n",
      "313/313 [==============================] - 1s 1ms/step - loss: 0.0803 - accuracy: 0.9779\n",
      "test_acc: 0.9779000282287598\n"
     ]
    }
   ],
   "source": [
    "model4 = Sequential()\n",
    "model4.add(Flatten())\n",
    "model4.add(Dense(128, activation='relu'))\n",
    "model4.add(Dense(784, activation='relu'))\n",
    "model4.add(Dense(10, activation='softmax'))\n",
    "\n",
    "model4.compile(optimizer='adam',loss='categorical_crossentropy', metrics=['accuracy'])\n",
    "\n",
    "model4.fit(train_images, train_labels, epochs=5, batch_size=32)\n",
    "\n",
    "test_loss, test_acc = model4.evaluate(test_images, test_labels)\n",
    "print('test_acc:', test_acc)"
   ]
  },
  {
   "cell_type": "code",
   "execution_count": 12,
   "id": "d740c0c9-75fa-4a2a-9fe8-4f371ae8a1df",
   "metadata": {
    "tags": []
   },
   "outputs": [
    {
     "name": "stdout",
     "output_type": "stream",
     "text": [
      "Epoch 1/5\n",
      "1875/1875 [==============================] - 16s 9ms/step - loss: 0.1791 - accuracy: 0.9447\n",
      "Epoch 2/5\n",
      "1875/1875 [==============================] - 16s 9ms/step - loss: 0.0818 - accuracy: 0.9751\n",
      "Epoch 3/5\n",
      "1875/1875 [==============================] - 16s 9ms/step - loss: 0.0582 - accuracy: 0.9816\n",
      "Epoch 4/5\n",
      "1875/1875 [==============================] - 17s 9ms/step - loss: 0.0459 - accuracy: 0.9855\n",
      "Epoch 5/5\n",
      "1875/1875 [==============================] - 16s 9ms/step - loss: 0.0363 - accuracy: 0.9887\n",
      "313/313 [==============================] - 1s 3ms/step - loss: 0.0855 - accuracy: 0.9767\n",
      "test_acc: 0.9767000079154968\n"
     ]
    }
   ],
   "source": [
    "model5 = Sequential()\n",
    "model5.add(Flatten())\n",
    "model5.add(Dense(784, activation='relu'))\n",
    "model5.add(Dense(1000, activation='relu'))\n",
    "model5.add(Dense(10, activation='softmax'))\n",
    "\n",
    "model5.compile(optimizer='adam',loss='categorical_crossentropy', metrics=['accuracy'])\n",
    "\n",
    "model5.fit(train_images, train_labels, epochs=5, batch_size=32)\n",
    "\n",
    "test_loss, test_acc = model5.evaluate(test_images, test_labels)\n",
    "print('test_acc:', test_acc)"
   ]
  },
  {
   "cell_type": "markdown",
   "id": "605340ee-267e-461a-b251-dfe71f73fd06",
   "metadata": {},
   "source": [
    "## Исследуем различные оптимизаторы и их параметры"
   ]
  },
  {
   "cell_type": "code",
   "execution_count": 13,
   "id": "b56edb16-2c24-4ab8-972c-6ea8f59fc6b6",
   "metadata": {},
   "outputs": [
    {
     "name": "stdout",
     "output_type": "stream",
     "text": [
      "Epoch 1/5\n",
      "469/469 [==============================] - 1s 2ms/step - loss: 0.2112 - accuracy: 0.9356\n",
      "Epoch 2/5\n",
      "469/469 [==============================] - 1s 2ms/step - loss: 0.1082 - accuracy: 0.9673\n",
      "Epoch 3/5\n",
      "469/469 [==============================] - 1s 2ms/step - loss: 0.0883 - accuracy: 0.9740\n",
      "Epoch 4/5\n",
      "469/469 [==============================] - 1s 2ms/step - loss: 0.0768 - accuracy: 0.9768\n",
      "Epoch 5/5\n",
      "469/469 [==============================] - 1s 2ms/step - loss: 0.0676 - accuracy: 0.9802\n",
      "313/313 [==============================] - 0s 1ms/step - loss: 0.1425 - accuracy: 0.9679\n",
      "test_acc: 0.9678999781608582\n"
     ]
    }
   ],
   "source": [
    "model6 = Sequential()\n",
    "model6.add(Flatten())\n",
    "model6.add(Dense(256, activation='relu'))\n",
    "model6.add(Dense(10, activation='softmax'))\n",
    "\n",
    "model6.compile(optimizer=tf.keras.optimizers.Adam(learning_rate=0.01),loss='categorical_crossentropy', metrics=['accuracy'])\n",
    "\n",
    "model6.fit(train_images, train_labels, epochs=5, batch_size=128)\n",
    "\n",
    "test_loss, test_acc = model6.evaluate(test_images, test_labels)\n",
    "print('test_acc:', test_acc)"
   ]
  },
  {
   "cell_type": "code",
   "execution_count": 14,
   "id": "25630337-07fa-422b-af6e-2dbc1fc128c1",
   "metadata": {},
   "outputs": [
    {
     "name": "stdout",
     "output_type": "stream",
     "text": [
      "Epoch 1/5\n",
      "469/469 [==============================] - 2s 3ms/step - loss: 0.2898 - accuracy: 0.9182\n",
      "Epoch 2/5\n",
      "469/469 [==============================] - 1s 3ms/step - loss: 0.1270 - accuracy: 0.9635\n",
      "Epoch 3/5\n",
      "469/469 [==============================] - 1s 3ms/step - loss: 0.0860 - accuracy: 0.9754\n",
      "Epoch 4/5\n",
      "469/469 [==============================] - 1s 3ms/step - loss: 0.0644 - accuracy: 0.9809\n",
      "Epoch 5/5\n",
      "469/469 [==============================] - 1s 3ms/step - loss: 0.0500 - accuracy: 0.9848\n",
      "313/313 [==============================] - 0s 1ms/step - loss: 0.0784 - accuracy: 0.9761\n",
      "test_acc: 0.9761000275611877\n"
     ]
    }
   ],
   "source": [
    "model7 = Sequential()\n",
    "model7.add(Flatten())\n",
    "model7.add(Dense(256, activation='relu'))\n",
    "model7.add(Dense(10, activation='softmax'))\n",
    "\n",
    "model7.compile(optimizer='RMSprop',loss='categorical_crossentropy', metrics=['accuracy'])\n",
    "\n",
    "model7.fit(train_images, train_labels, epochs=5, batch_size=128)\n",
    "\n",
    "test_loss, test_acc = model7.evaluate(test_images, test_labels)\n",
    "print('test_acc:', test_acc)"
   ]
  },
  {
   "cell_type": "code",
   "execution_count": 15,
   "id": "8f44b2b0-590a-4155-9250-02eb45a039b3",
   "metadata": {},
   "outputs": [
    {
     "name": "stdout",
     "output_type": "stream",
     "text": [
      "Epoch 1/5\n",
      "469/469 [==============================] - 1s 2ms/step - loss: 1.1259 - accuracy: 0.7381\n",
      "Epoch 2/5\n",
      "469/469 [==============================] - 1s 2ms/step - loss: 0.5380 - accuracy: 0.8680\n",
      "Epoch 3/5\n",
      "469/469 [==============================] - 1s 2ms/step - loss: 0.4315 - accuracy: 0.8861\n",
      "Epoch 4/5\n",
      "469/469 [==============================] - 1s 2ms/step - loss: 0.3837 - accuracy: 0.8959\n",
      "Epoch 5/5\n",
      "469/469 [==============================] - 1s 2ms/step - loss: 0.3547 - accuracy: 0.9027\n",
      "313/313 [==============================] - 0s 1ms/step - loss: 0.3264 - accuracy: 0.9103\n",
      "test_acc: 0.9103000164031982\n"
     ]
    }
   ],
   "source": [
    "model8 = Sequential()\n",
    "model8.add(Flatten())\n",
    "model8.add(Dense(256, activation='relu'))\n",
    "model8.add(Dense(10, activation='softmax'))\n",
    "\n",
    "model8.compile(optimizer='SGD',loss='categorical_crossentropy', metrics=['accuracy'])\n",
    "\n",
    "model8.fit(train_images, train_labels, epochs=5, batch_size=128)\n",
    "\n",
    "test_loss, test_acc = model8.evaluate(test_images, test_labels)\n",
    "print('test_acc:', test_acc)"
   ]
  },
  {
   "cell_type": "markdown",
   "id": "64d12e8c-f7ac-4f57-a8ac-c429d791f6ac",
   "metadata": {},
   "source": [
    "## Функция которая позволяет загружать пользовательские изображения"
   ]
  },
  {
   "cell_type": "code",
   "execution_count": 16,
   "id": "cf494063-7e9c-4217-9333-8669b0feb6eb",
   "metadata": {},
   "outputs": [],
   "source": [
    "from PIL import Image\n",
    "import numpy as np\n",
    "def img(name_img):\n",
    "    img_new = Image.open(name_img)\n",
    "    img_new = img_new.convert('L')\n",
    "    img_new = np.asarray(img_new)\n",
    "    img_new = img_new / 255.0\n",
    "    x = np.expand_dims(img_new, axis=0)\n",
    "    res = model4.predict(x)\n",
    "    print(res)\n",
    "    print(f\"Распознанная цифра: {np.argmax(res)}\")\n",
    "    plt.imshow(img_new, cmap=plt.cm.binary)\n",
    "    plt.show()"
   ]
  },
  {
   "cell_type": "code",
   "execution_count": 17,
   "id": "163df37d-6085-4eaa-9387-48c0cf49da1e",
   "metadata": {},
   "outputs": [
    {
     "name": "stdout",
     "output_type": "stream",
     "text": [
      "[[5.1683397e-04 6.8079608e-08 1.0695386e-06 2.4221831e-06 2.5376627e-05\n",
      "  9.0215954e-06 9.9943382e-01 7.5267267e-06 3.7167761e-06 1.3366969e-07]]\n",
      "Распознанная цифра: 6\n"
     ]
    },
    {
     "data": {
      "image/png": "[encoded data removed]",
      "text/plain": [
       "<Figure size 432x288 with 1 Axes>"
      ]
     },
     "metadata": {
      "needs_background": "light"
     },
     "output_type": "display_data"
    }
   ],
   "source": [
    "img('first_img.png')"
   ]
  },
  {
   "cell_type": "code",
   "execution_count": 18,
   "id": "757da76c-9d97-4e8a-bfe0-836a879adae0",
   "metadata": {},
   "outputs": [
    {
     "name": "stdout",
     "output_type": "stream",
     "text": [
      "[[4.1451775e-09 1.7779352e-09 1.5382589e-08 1.5548991e-04 9.4840036e-10\n",
      "  2.4359794e-08 8.3587460e-12 8.4481880e-11 9.9984431e-01 8.6592564e-08]]\n",
      "Распознанная цифра: 8\n"
     ]
    },
    {
     "data": {
      "image/png": "[encoded data removed]",
      "text/plain": [
       "<Figure size 432x288 with 1 Axes>"
      ]
     },
     "metadata": {
      "needs_background": "light"
     },
     "output_type": "display_data"
    }
   ],
   "source": [
    "img('second_img.png')"
   ]
  },
  {
   "cell_type": "code",
   "execution_count": null,
   "id": "075b0e24-d012-419d-a2a1-9173d72144d9",
   "metadata": {},
   "outputs": [],
   "source": []
  }
 ],
 "metadata": {
  "kernelspec": {
   "display_name": "Python 3 (ipykernel)",
   "language": "python",
   "name": "python3"
  },
  "language_info": {
   "codemirror_mode": {
    "name": "ipython",
    "version": 3
   },
   "file_extension": ".py",
   "mimetype": "text/x-python",
   "name": "python",
   "nbconvert_exporter": "python",
   "pygments_lexer": "ipython3",
   "version": "3.9.7"
  }
 },
 "nbformat": 4,
 "nbformat_minor": 5
}
